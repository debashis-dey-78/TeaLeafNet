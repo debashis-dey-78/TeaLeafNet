{
  "cells": [
    {
      "cell_type": "markdown",
      "metadata": {},
      "source": [
        "# 🌿 TeaLeafNet - TFLite Model Server\n",
        "\n",
        "This Google Colab notebook runs your TFLite models for tea leaf disease detection.\n",
        "\n",
        "## Features:\n",
        "- ✅ Stage 1: Leaf Detection (160x160)\n",
        "- ✅ Stage 2: Disease Classification (512x512)\n",
        "- ✅ Public API via ngrok\n",
        "- ✅ 100% Free\n"
      ]
    },
    {
      "cell_type": "markdown",
      "metadata": {},
      "source": [
        "## 📦 Setup & Installation\n"
      ]
    },
    {
      "cell_type": "code",
      "execution_count": null,
      "metadata": {},
      "outputs": [],
      "source": [
        "# Install required packages\n",
        "!pip install flask flask-cors tensorflow pillow ngrok-py\n",
        "\n",
        "# Install ngrok (for public API access)\n",
        "!wget -q -c -nc https://bin.equinox.io/c/4VmDzA7iaHb/ngrok-stable-linux-amd64.zip\n",
        "!unzip -o -q ngrok-stable-linux-amd64.zip\n",
        "\n",
        "print(\"✅ Dependencies installed successfully!\")\n"
      ]
    }
  ],
  "metadata": {
    "language_info": {
      "name": "python"
    }
  },
  "nbformat": 4,
  "nbformat_minor": 2
}
